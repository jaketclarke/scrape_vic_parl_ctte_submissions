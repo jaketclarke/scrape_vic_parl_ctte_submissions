{
 "cells": [
  {
   "cell_type": "markdown",
   "metadata": {},
   "source": [
    "### Download VIC Parl Ctte Submission PDFs and merge\n",
    "* V0.1\n",
    "* Jake Clarke, 24 July 2017"
   ]
  },
  {
   "cell_type": "markdown",
   "metadata": {},
   "source": [
    "### settings"
   ]
  },
  {
   "cell_type": "code",
   "execution_count": 6,
   "metadata": {},
   "outputs": [
    {
     "name": "stdout",
     "output_type": "stream",
     "text": [
      "https://www.parliament.vic.gov.au/fireservicesbill/inquiries/article/2571\n",
      "https://www.parliament.vic.gov.au\n",
      "_tmp_submissions\n"
     ]
    }
   ],
   "source": [
    "# path to submissions page\n",
    "url = 'https://www.parliament.vic.gov.au/fireservicesbill/inquiries/article/2571'\n",
    "# path to download url of the pdfs we find\n",
    "path = 'https://www.parliament.vic.gov.au'\n",
    "# where should I save these on disk?\n",
    "outputpath = '_tmp_submissions'\n",
    "\n",
    "print(url)\n",
    "print(path)\n",
    "print(outputpath)"
   ]
  },
  {
   "cell_type": "markdown",
   "metadata": {},
   "source": [
    "### libraries"
   ]
  },
  {
   "cell_type": "code",
   "execution_count": 8,
   "metadata": {
    "collapsed": true
   },
   "outputs": [],
   "source": [
    "import requests\n",
    "from bs4 import BeautifulSoup\n",
    "from fake_useragent import UserAgent\n",
    "import wget\n",
    "import os\n",
    "from os import listdir\n",
    "from os.path import isfile, join\n",
    "from datetime import *"
   ]
  },
  {
   "cell_type": "markdown",
   "metadata": {},
   "source": [
    "### helper functions for getting submissions"
   ]
  },
  {
   "cell_type": "code",
   "execution_count": 18,
   "metadata": {
    "collapsed": true
   },
   "outputs": [],
   "source": [
    "# for an element in a list, find the url\n",
    "def get_url(block, outputpath):\n",
    "    link = block.find('a',{'class':'wf_file'})\n",
    "    file_path = link['href']\n",
    "    downloadurl = outputpath + file_path\n",
    "    return downloadurl\n",
    "\n",
    "# for a given url, download file\n",
    "def get_file(url, outputpath):\n",
    "    wget.download(url, out=outputpath)\n",
    "    \n",
    "# if download folder exists, empty it\n",
    "# if it doesn't, make it\n",
    "def download_folder(outputpath):\n",
    "    if os.path.isdir(outputpath):\n",
    "        for the_file in os.listdir(outputpath):\n",
    "            file_path = os.path.join(outputpath, the_file)\n",
    "            try:\n",
    "                if os.path.isfile(file_path):\n",
    "                    os.unlink(file_path)\n",
    "            except Exception as e:\n",
    "                print(e)\n",
    "    else:\n",
    "        os.makedirs(outputpath)"
   ]
  },
  {
   "cell_type": "markdown",
   "metadata": {},
   "source": [
    "### Get the page, download files"
   ]
  },
  {
   "cell_type": "code",
   "execution_count": 20,
   "metadata": {},
   "outputs": [],
   "source": [
    "# get the page data\n",
    "headers = {'User-Agent': UserAgent().chrome}\n",
    "page = requests.get(url, headers=headers)\n",
    "soup = BeautifulSoup(page.content, 'html5lib')\n",
    "\n",
    "# make sure download directory exists and is empty\n",
    "download_folder(outputpath)\n",
    "\n",
    "# find first ordered list, loop through all <li>s and get url\n",
    "submissionlist = soup.find('ol')\n",
    "# for sub in submissionlist.findAll('li'):\n",
    "#     data = get_url(sub, path)\n",
    "#     get_file(data)\n",
    "\n",
    "sub = submissionlist.find('li')\n",
    "url = get_url(sub, path)\n",
    "get_file(url, outputpath)\n",
    "\n",
    "sub = sub.find_next('li')\n",
    "url = get_url(sub, path)\n",
    "get_file(url, outputpath)\n",
    "\n",
    "sub = sub.find_next('li')\n",
    "url = get_url(sub, path)\n",
    "get_file(url, outputpath)\n",
    "\n",
    "sub = sub.find_next('li')\n",
    "url = get_url(sub, path)\n",
    "get_file(url, outputpath)\n",
    "\n",
    "sub = sub.find_next('li')\n",
    "url = get_url(sub, path)\n",
    "get_file(url, outputpath)"
   ]
  },
  {
   "cell_type": "code",
   "execution_count": 33,
   "metadata": {},
   "outputs": [
    {
     "name": "stdout",
     "output_type": "stream",
     "text": [
      "['S1-Anne_Laver.pdf', 'S2-CONFIDENTIAL.pdf']\n"
     ]
    }
   ],
   "source": [
    "# get list of files\n",
    "files = [f for f in listdir(outputpath) if isfile(join(outputpath, f))]\n",
    "print(files[:10])"
   ]
  },
  {
   "cell_type": "code",
   "execution_count": 171,
   "metadata": {
    "collapsed": true
   },
   "outputs": [],
   "source": [
    "## function - make watermark pdf\n",
    "def make_watermark_pdf(fname,fwatermarkname):\n",
    "    \n",
    "    c = canvas.Canvas(fwatermarkname)\n",
    "    c.setFont(\"Helvetica\", 8)\n",
    "\n",
    "    text = 'file: ' + str(fname)\n",
    "    c.drawString(20,60,text)\n",
    "\n",
    "    ts = datetime.now()\n",
    "    ts_str = 'downloaded: ' + str(ts)\n",
    "    c.drawString(20,50,ts_str)\n",
    "\n",
    "    c.save()"
   ]
  },
  {
   "cell_type": "code",
   "execution_count": 173,
   "metadata": {
    "collapsed": true
   },
   "outputs": [],
   "source": [
    "from reportlab.pdfgen import canvas\n",
    "\n",
    "make_watermark_pdf(\n",
    "    fname = 'S303-David_Kelly.pdf',\n",
    "    fwatermarkname = '_tmp_submissions\\watermark.pdf'\n",
    ")"
   ]
  },
  {
   "cell_type": "code",
   "execution_count": 164,
   "metadata": {
    "collapsed": true
   },
   "outputs": [],
   "source": [
    "# function -- merge pdf\n",
    "def merge_with_watermark(fname, foutputname, fwatermarkname):\n",
    "    output = PdfFileWriter()\n",
    "\n",
    "    ipdf = PdfFileReader(open(fname, 'rb'))\n",
    "    wpdf = PdfFileReader(open(fwatermarkname, 'rb'))\n",
    "    watermark = wpdf.getPage(0)\n",
    "\n",
    "    for i in xrange(ipdf.getNumPages()):\n",
    "        page = ipdf.getPage(i)\n",
    "        page.mergePage(watermark)\n",
    "        output.addPage(page)\n",
    "\n",
    "    with open(foutputname, 'wb') as f:\n",
    "        output.write(f)"
   ]
  },
  {
   "cell_type": "code",
   "execution_count": 166,
   "metadata": {
    "collapsed": true
   },
   "outputs": [],
   "source": [
    "from pdfrw import PdfReader, PdfWriter, PageMerge\n",
    "\n",
    "merge_with_watermark(\n",
    "    fname = '_tmp_submissions\\S1-Anne_Laver.pdf',\n",
    "    foutputname = '_tmp_submissions\\merge\\S1-Anne_Laver.pdf',\n",
    "    fwatermarkname = '_tmp_submissions\\watermark.pdf'\n",
    ")"
   ]
  },
  {
   "cell_type": "code",
   "execution_count": 182,
   "metadata": {
    "collapsed": true
   },
   "outputs": [],
   "source": [
    "# for file in files, make watermark, merge into the output dir\n",
    "fwatermarkname = '_tmp_submissions\\watermark.pdf'\n",
    "\n",
    "files = [f for f in listdir(outputpath) if isfile(join(outputpath, f))]\n",
    "\n",
    "for file in files:\n",
    "\n",
    "    fname = '_tmp_submissions\\\\' + file\n",
    "    foutputname = '_tmp_submissions\\\\merge\\\\' + file\n",
    "    \n",
    "    # mkae watermark file containing date stamp and file name\n",
    "    \n",
    "    make_watermark_pdf(\n",
    "        fname,\n",
    "        fwatermarkname\n",
    "    )\n",
    "    \n",
    "    # merge with watermark file\n",
    "    \n",
    "    merge_with_watermark(\n",
    "        fname,\n",
    "        foutputname,\n",
    "        fwatermarkname\n",
    "    )"
   ]
  },
  {
   "cell_type": "code",
   "execution_count": 167,
   "metadata": {
    "collapsed": true
   },
   "outputs": [],
   "source": [
    "from pdfrw import PdfReader, PdfWriter, IndirectPdfDict, PageMerge"
   ]
  },
  {
   "cell_type": "code",
   "execution_count": 183,
   "metadata": {
    "collapsed": true
   },
   "outputs": [],
   "source": [
    "# merge files from merge subdir\n",
    "\n",
    "writer = PdfWriter()\n",
    "\n",
    "for file in files:\n",
    "    fname = '_tmp_submissions\\\\merge\\\\' + file\n",
    "    writer.addpages(PdfReader(fname).pages)\n",
    "\n",
    "writer.write('_tmp_submissions\\merge.pdf')"
   ]
  }
 ],
 "metadata": {
  "kernelspec": {
   "display_name": "Python 3",
   "language": "python",
   "name": "python3"
  },
  "language_info": {
   "codemirror_mode": {
    "name": "ipython",
    "version": 3
   },
   "file_extension": ".py",
   "mimetype": "text/x-python",
   "name": "python",
   "nbconvert_exporter": "python",
   "pygments_lexer": "ipython3",
   "version": "3.6.1"
  }
 },
 "nbformat": 4,
 "nbformat_minor": 2
}
