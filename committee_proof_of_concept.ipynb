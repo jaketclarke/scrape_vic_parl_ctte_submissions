{
 "cells": [
  {
   "cell_type": "markdown",
   "metadata": {},
   "source": [
    "### Download VIC Parl Ctte Submission PDFs and merge\n",
    "* V0.1\n",
    "* Jake Clarke, 24 July 2017"
   ]
  },
  {
   "cell_type": "markdown",
   "metadata": {},
   "source": [
    "### settings"
   ]
  },
  {
   "cell_type": "code",
   "execution_count": 44,
   "metadata": {},
   "outputs": [
    {
     "name": "stdout",
     "output_type": "stream",
     "text": [
      "https://www.parliament.vic.gov.au/fireservicesbill/inquiries/article/2571\n",
      "https://www.parliament.vic.gov.au\n",
      "_tmp_submissions\n",
      "_tmp_submissions/merge\n"
     ]
    }
   ],
   "source": [
    "# path to submissions page\n",
    "url = 'https://www.parliament.vic.gov.au/fireservicesbill/inquiries/article/2571'\n",
    "# path to download url of the pdfs we find\n",
    "path = 'https://www.parliament.vic.gov.au'\n",
    "# where should I save these on disk?\n",
    "outputpath = '_tmp_submissions'\n",
    "mergepath = '_tmp_submissions/merge'\n",
    "\n",
    "print(url)\n",
    "print(path)\n",
    "print(outputpath)\n",
    "print(mergepath)"
   ]
  },
  {
   "cell_type": "markdown",
   "metadata": {},
   "source": [
    "### libraries"
   ]
  },
  {
   "cell_type": "code",
   "execution_count": 42,
   "metadata": {},
   "outputs": [],
   "source": [
    "import requests\n",
    "from bs4 import BeautifulSoup\n",
    "from fake_useragent import UserAgent\n",
    "import wget\n",
    "import os\n",
    "from os import listdir\n",
    "from os.path import isfile, join\n",
    "from datetime import *\n",
    "from reportlab.pdfgen import canvas\n",
    "from pdfrw import PdfReader, PdfWriter, IndirectPdfDict, PageMerge\n",
    "from PyPDF2 import PdfFileWriter, PdfFileReader"
   ]
  },
  {
   "cell_type": "markdown",
   "metadata": {},
   "source": [
    "### helper functions for getting submissions"
   ]
  },
  {
   "cell_type": "code",
   "execution_count": 18,
   "metadata": {
    "collapsed": true
   },
   "outputs": [],
   "source": [
    "# for an element in a list, find the url\n",
    "def get_url(block, outputpath):\n",
    "    link = block.find('a',{'class':'wf_file'})\n",
    "    file_path = link['href']\n",
    "    downloadurl = outputpath + file_path\n",
    "    return downloadurl\n",
    "\n",
    "# for a given url, download file\n",
    "def get_file(url, outputpath):\n",
    "    wget.download(url, out=outputpath)\n",
    "    \n",
    "# if download folder exists, empty it\n",
    "# if it doesn't, make it\n",
    "def download_folder(outputpath):\n",
    "    if os.path.isdir(outputpath):\n",
    "        for the_file in os.listdir(outputpath):\n",
    "            file_path = os.path.join(outputpath, the_file)\n",
    "            try:\n",
    "                if os.path.isfile(file_path):\n",
    "                    os.unlink(file_path)\n",
    "            except Exception as e:\n",
    "                print(e)\n",
    "    else:\n",
    "        os.makedirs(outputpath)"
   ]
  },
  {
   "cell_type": "markdown",
   "metadata": {},
   "source": [
    "### Get the page, download files"
   ]
  },
  {
   "cell_type": "code",
   "execution_count": 20,
   "metadata": {},
   "outputs": [],
   "source": [
    "# get the page data\n",
    "headers = {'User-Agent': UserAgent().chrome}\n",
    "page = requests.get(url, headers=headers)\n",
    "soup = BeautifulSoup(page.content, 'html5lib')\n",
    "\n",
    "# make sure download directory exists and is empty\n",
    "download_folder(outputpath)\n",
    "\n",
    "# find first ordered list, loop through all <li>s and get url\n",
    "submissionlist = soup.find('ol')\n",
    "# for sub in submissionlist.findAll('li'):\n",
    "#     data = get_url(sub, path)\n",
    "#     get_file(data)\n",
    "\n",
    "sub = submissionlist.find('li')\n",
    "url = get_url(sub, path)\n",
    "get_file(url, outputpath)\n",
    "\n",
    "sub = sub.find_next('li')\n",
    "url = get_url(sub, path)\n",
    "get_file(url, outputpath)\n",
    "\n",
    "sub = sub.find_next('li')\n",
    "url = get_url(sub, path)\n",
    "get_file(url, outputpath)\n",
    "\n",
    "sub = sub.find_next('li')\n",
    "url = get_url(sub, path)\n",
    "get_file(url, outputpath)\n",
    "\n",
    "sub = sub.find_next('li')\n",
    "url = get_url(sub, path)\n",
    "get_file(url, outputpath)"
   ]
  },
  {
   "cell_type": "markdown",
   "metadata": {},
   "source": [
    "### Merge into one PDF"
   ]
  },
  {
   "cell_type": "markdown",
   "metadata": {},
   "source": [
    "#### Helper functions"
   ]
  },
  {
   "cell_type": "code",
   "execution_count": 29,
   "metadata": {},
   "outputs": [],
   "source": [
    "def get_files(outputpath):\n",
    "    files = [f for f in listdir(outputpath) if isfile(join(outputpath, f))]\n",
    "    return files\n",
    "\n",
    "## function - make watermark pdf\n",
    "## this is a pdf containing the name of a pdf, and the time we ran this script\n",
    "## this way when we make one merged pdf, each page will be stamped with its original file\n",
    "def make_watermark_pdf(fname,fwatermarkname):\n",
    "    \n",
    "    c = canvas.Canvas(fwatermarkname)\n",
    "    c.setFont(\"Helvetica\", 8)\n",
    "\n",
    "    text = 'file: ' + str(fname)\n",
    "    c.drawString(20,60,text)\n",
    "\n",
    "    ts = datetime.now()\n",
    "    ts_str = 'downloaded: ' + str(ts)\n",
    "    c.drawString(20,50,ts_str)\n",
    "\n",
    "    c.save()\n",
    "    \n",
    "### this function will take a pdf and merge it with a watermark pdf\n",
    "### this makes a copy of each pdf, with the watermark\n",
    "def merge_with_watermark(fname, foutputname, fwatermarkname):\n",
    "    output = PdfFileWriter()\n",
    "\n",
    "    ipdf = PdfFileReader(open(fname, 'rb'))\n",
    "    wpdf = PdfFileReader(open(fwatermarkname, 'rb'))\n",
    "    watermark = wpdf.getPage(0)\n",
    "\n",
    "    for i in xrange(ipdf.getNumPages()):\n",
    "        page = ipdf.getPage(i)\n",
    "        page.mergePage(watermark)\n",
    "        output.addPage(page)\n",
    "\n",
    "    with open(foutputname, 'wb') as f:\n",
    "        output.write(f)"
   ]
  },
  {
   "cell_type": "code",
   "execution_count": 30,
   "metadata": {},
   "outputs": [
    {
     "name": "stdout",
     "output_type": "stream",
     "text": [
      "['S1-Anne_Laver.pdf', 'S2-CONFIDENTIAL.pdf', 'S3-Alister_Noonan.pdf', 'S4-Kenneth_Dwight.pdf', 'S5-Nicola_Stephens.pdf', 'watermark.pdf']\n"
     ]
    }
   ],
   "source": [
    "# test get_files()\n",
    "files = get_files(outputpath)\n",
    "print(files[:10])"
   ]
  },
  {
   "cell_type": "code",
   "execution_count": 31,
   "metadata": {
    "collapsed": true
   },
   "outputs": [],
   "source": [
    "# test make_watermark_pdf()\n",
    "make_watermark_pdf(\n",
    "    fname = 'S1-Anne_Laver.pdf',\n",
    "    fwatermarkname = '_tmp_submissions\\watermark.pdf'\n",
    ")"
   ]
  },
  {
   "cell_type": "code",
   "execution_count": 46,
   "metadata": {},
   "outputs": [],
   "source": [
    "# test merge_with_watermark()\n",
    "merge_with_watermark(\n",
    "    fname = '_tmp_submissions\\S1-Anne_Laver.pdf',\n",
    "    foutputname = '_tmp_submissions\\merge\\S1-Anne_Laver.pdf',\n",
    "    fwatermarkname = '_tmp_submissions\\watermark.pdf'\n",
    ")"
   ]
  },
  {
   "cell_type": "code",
   "execution_count": 50,
   "metadata": {},
   "outputs": [],
   "source": [
    "# watermark pdf to use\n",
    "fwatermarkname = mergepath + '/watermark/watermark.pdf'\n",
    "\n",
    "# get file list\n",
    "files = get_files(outputpath)\n",
    "\n",
    "# make sure the subdir for merging is there\n",
    "download_folder(mergepath)\n",
    "\n",
    "#watermark dir\n",
    "download_folder(mergepath + '/' + 'watermark')\n",
    "\n",
    "for file in files:\n",
    "\n",
    "    fname = outputpath + '/' + file\n",
    "    foutputname = mergepath + '/' + file\n",
    "    \n",
    "    # make watermark file containing date stamp and file name\n",
    "    \n",
    "    make_watermark_pdf(\n",
    "        fname,\n",
    "        fwatermarkname\n",
    "    )\n",
    "    \n",
    "    # merge with watermark file\n",
    "    \n",
    "    merge_with_watermark(\n",
    "        fname,\n",
    "        foutputname,\n",
    "        fwatermarkname\n",
    "    )"
   ]
  },
  {
   "cell_type": "markdown",
   "metadata": {
    "collapsed": true
   },
   "source": [
    "### merge into one PDF"
   ]
  },
  {
   "cell_type": "code",
   "execution_count": 183,
   "metadata": {
    "collapsed": true
   },
   "outputs": [],
   "source": [
    "# merge files from merge subdir\n",
    "\n",
    "writer = PdfWriter()\n",
    "\n",
    "for file in files:\n",
    "    fname = mergepath + '/' + file\n",
    "    writer.addpages(PdfReader(fname).pages)\n",
    "\n",
    "writer.write(outputpath + '/' + 'S000_merge.pdf')"
   ]
  }
 ],
 "metadata": {
  "kernelspec": {
   "display_name": "Python 3",
   "language": "python",
   "name": "python3"
  },
  "language_info": {
   "codemirror_mode": {
    "name": "ipython",
    "version": 3
   },
   "file_extension": ".py",
   "mimetype": "text/x-python",
   "name": "python",
   "nbconvert_exporter": "python",
   "pygments_lexer": "ipython3",
   "version": "3.6.1"
  }
 },
 "nbformat": 4,
 "nbformat_minor": 2
}
